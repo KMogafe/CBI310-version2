{
 "cells": [
  {
   "cell_type": "markdown",
   "metadata": {},
   "source": [
    "# Chapter 2: The food we need\n"
   ]
  },
  {
   "cell_type": "markdown",
   "metadata": {},
   "source": [
    "\n",
    "<img src=\"food1.jpg\" width=\"550\" />\n",
    "\n",
    "## Elements of the human body\n",
    "\n",
    "We now know a little bit about how the human body requires energy to sustain itself. In this chapter, we are going to have a detailed look at the food that we supply to our bodies, however, we are going to use a chemical engineering approach where we break down all the chemical elements that enter our bodies through food. Have you ever wondered what chemicals food consists of, or even better, what chemical elements your body consists of? Have a look at this visual video to develop a feel.\n",
    "\n",
    "[Video: Elements of the human body](https://www.youtube.com/watch?v=xd16--F8jGA)\n",
    "\n",
    "Amazing that these 11 elements constitute 99.9% of our bodies. Given the information in the video above, we can now generate a chemical formula for the average human. In this formula. we will use the carbon atom as the basis atom since most chemicals in our bodies have carbon as the backbone. Given this basis, the average human body can be described by the following \"molecule\" or molecular formula.\n",
    "\n",
    "$CH_{6.121}O_{2.638}N_{0.148}Cl_{0.00366}Mg_{0.00534}Na_{0.00565}Ca_{0.024}K_{0.00321}S_{0.00608}P_{0.021}$\n",
    "\n",
    "In this subject, we will typically work with the dry weight of biomass and we will therefore exclude the water content from the molecular formula. Given that the average human body contains 60% water (based on total mass), the formula above can be rewritten as:\n",
    "\n",
    "$CH_{1.847}O_{0.4771}N_{0.148}Cl_{0.00366}Mg_{0.00534}Na_{0.00565}Ca_{0.024}K_{0.00321}S_{0.00608}P_{0.021}$\n",
    "\n",
    "Can you calculate these formulas based on the fact that the video gave mass percentages? If not, make sure you can by contacting a classmate or a TA."
   ]
  },
  {
   "cell_type": "markdown",
   "metadata": {},
   "source": [
    "Now given that the human body can be written as a chemical formula, we can do the same for the food that the human consumes. But before we do this we want to learn a little about the basic molecules that is required in the human diet. \n",
    "\n",
    "<img src=\"pcf.jpeg\" width=\"550\" />\n",
    "\n",
    "\n",
    "The following videos will give you an better understanding of proteins, carbohydrates and fat:\n",
    "\n",
    "[Video: Basic food molecules](https://www.youtube.com/watch?v=H8WJ2KENlK0)\n",
    "\n",
    "[Video: Carbohydrates](https://www.youtube.com/watch?v=_zm_DyD6FJ0)\n",
    "\n",
    "[Video: Lipids](https://www.youtube.com/watch?v=VGHD9e3yRIU)\n",
    "\n",
    "[Video: Proteins](https://www.youtube.com/watch?v=2Jgb_DpaQhM)\n",
    "\n",
    "From the videos above you will notice that proteins are by far the most complex molecules, given that the 20 building blocks (or amino acids) can be arranged in any order to make any protein. Note that the largest protein in the body consists of 27000 amino acids, so protein molecules tend to be very large molecules. \n",
    "\n",
    "<img src=\"aminoacids.png\" width=\"550\" />\n",
    "\n",
    "\n",
    "\n",
    "Very important to understand that proteins are the molecules that perform all functions in all organisms, they are effectively the molecules of life! You might wonder how all the amino acids arrange themselfes according to a specific recipe to make a specific molecule. We'll get into this a bit later. The answer is referred to as the central dogma of biology."
   ]
  },
  {
   "cell_type": "markdown",
   "metadata": {},
   "source": [
    "You already know that a human requires protein, carbohydrates and fat for nutrition. It is generally agreed that a healthy diet should consist of 45-65% of carbohydrates, 10-35% protein and 20-35% fats.\n",
    "\n",
    "The following generic formulas can be used for carbs, proteins and fats. Note that these formulas just give an estimation and that variation is possible.\n",
    "\n",
    "Carbs:\n",
    "$$CH_2O$$\n",
    "\n",
    "Fat:\n",
    "$$CH_2O_{0.11}$$\n",
    "\n",
    "Protein:\n",
    "$$CH_{1.6}O_{0.32}N_{0.26}S_{0.007}$$\n",
    "\n",
    "\n",
    "If we take a 50:30:20 percentage of carbs:protein:fat we can derive a general chemical formula for a healty diet intake. I have obtained the following formula:\n",
    "\n",
    "$$CH_{1.875}O_{0.523}N_{0.081}S_{0.0022}$$\n",
    "\n",
    "Do you get something similar? Note that water is not included in this foodstream and that all formulas are given on a dry basis. At this stage it is very important to understand how we will treat water in all the mass balances where biomass is concerned. We will effectively neglect the influx and outflux of water through the process. This implies that all biomass will be defined on a dry basis. In the overall reaction water might be a product (or reactant) and this will be calculated in the mass balance. Understand that a major amount of water will enter the system as well as exit the system and that this amount is not quantified. Only a small amount of water will either be used from the incoming water stream or will be produced and added to the outgoing water stream. This small amount is hence referred to as the reaction water."
   ]
  },
  {
   "cell_type": "markdown",
   "metadata": {},
   "source": [
    "So now we know the carbon based molecular formula of a healthy diet 😀.Let's get back to our Ben example, where Ben consumes 9000 kJ per day. Given the following energy content of the major foodgroups:\n",
    "\n",
    "<img src=\"energy1.jpg\" width=\"400\" />\n",
    "\n",
    "Determine the mass 'flowrate' and the carbon based molar (or cmol) flowrate that Ben must consume in a day if he consumes the cmol formula derived above.[424.5 $\\frac{g}{day}$ and 18.1$\\frac{cmol}{day} $]"
   ]
  },
  {
   "cell_type": "markdown",
   "metadata": {},
   "source": [
    "We now have the chemical formula of the food entering the human body. The next question will be to determine the quantity of food (on a dry basis). Here we should consider the energetic requirements of the human body (remeber chapter 1). The heat of combustion of proteins, carbs and fats are well established and given the the formula above I obtain a feedrate of .....  Do you get the same by performing your own calculation? \n",
    "\n",
    "\n",
    "So now let's think of the human as a chemical process, with a foodstream with the formula above coming into the process. Let's consider the other streams coming into the process. Since the majority of our energy is generated from aerobic respiration, we will require a carbon source (that will be metabolised to pyruvate before enetering the TCA cycle) that is provided by our food (with the generalised chemical formula above). We will also require oxygen as final electron acceptor from oxidative phosphorilation, so this is an additional stream into the process. When we consider the streams that exit the body (or system) it is obvious that CO₂ must leave the system when we consider the formation of CO₂ in the TCA cycle. In addition our food and liquid consumption generate a solid waste stream (feces) and a liquid waste stream (urine). Since we will be working with annimal manure in the next chapters we prefer to use the term humanure for solid waste generated from humans, it just sounds better than all the other terms avaialble. There is of course other small excretion streams like sweat, tears, mucus and hair but the amount of chemicals contained in these excretions are relatively insignificant compared to the main streams mentioned above, so for keeping the mass balance simple we will ignore these terms.The following diagram will help:\n",
    "\n",
    "<img src=\"metabolism.png\" width=\"550\" />\n",
    "\n",
    "\n",
    "We are now interested in performing a carbon, hydrogen, oxygen and nitrogen balance over the diagram above. We'll be using a simple matrix approach to simplify the calculations. This matrix aproach will also come in handy when we move to solving mass balances and differential equations together (later chapters). We already have the elemental composition of the food intake, but in order to complete the mass balance we need elemental compositions (and some flowrates) of the urine and humanure stream. Let's start with urine. The following table gives you a good idea what urine is made of:\n",
    "\n",
    "<img src=\"urine2.png\" width=\"650\" />\n",
    "\n",
    "You will note that there are various organic components and minerals. For the intial mass balance that we perform we are only interested in C,H,O and N and thus we only have to use the organic components. For simplification purposes we'll only consider urea and we'll use 35$\\frac{g}{day}$ as the dry flowrate for the example below. \n",
    "\n",
    "When it comes to humanure the following graphic might teach you something:\n",
    "\n",
    "<img src=\"poop.png\" width=\"450\" />\n",
    "\n",
    "From a C,H,O and N perspective we want to write all the organic components as a formula. Perhaps you can get on the internet and deduct your own formula, but for now we'll stick with the following: manure contains on a mass basis 48% carbon, 7% hydrogen, 38% oxygen and 7% nitrogen. On a carbon based (cmol) formula the following should be obtained:\n",
    "\n",
    "$$CH_{1.75}O_{0.59}N_{0.125}$$\n",
    "\n",
    "The average person excretes about 40-70 grams of dry (water excluded) humanure in a day. "
   ]
  },
  {
   "cell_type": "markdown",
   "metadata": {},
   "source": [
    "We know have enough info to perform a mass balance. Before we do this, let's do a bit of theory on stoichiometry:"
   ]
  },
  {
   "cell_type": "markdown",
   "metadata": {},
   "source": [
    "## Stoichiometry, rates and yields\n",
    "\n",
    "In this subject it is crucial to understand how stoichiometry relates to reaction rates. Let's start by considering a simple chemical reaction:\n",
    "\n",
    "$$ A+2B \\to 4C+3D$$\n",
    "\n",
    "In essense this reaction states that for each mole of A that reacts, 2 moles of B is consumed, while 4 moles of C is formed and 3 moles of D is formed. In the context of this subject it is the easiest to think of reaction in terms of reaction rates where we relate the conversion process to time. In terms of the reaction rate ($r_i$) we can use the stoichiometric coeffisients to relate the respective reaction rates of the 4 components to one another. It should be clear that:\n",
    "\n",
    "$$r_B=2r_A, \\,\\, r_C=-4r_A, \\,\\, r_D=-3r_A  $$\n",
    "\n",
    "**The standard convention** is to define production rate as positive. This implies that $r_A$ and $r_B$ will be negative since molecules are consumed. \n",
    "\n",
    "The reaction above can also be written as follow:\n",
    "\n",
    "$$ \\frac{1}{2}A+B \\to 2C+\\frac{3}{2}D$$\n",
    "\n",
    "Here we have chosen to relate the stoichiometry to one mole of B that reacts (instead of one mole of A that reacts in the fisrt expression). It should be clear to you that the following relationships applies for both ways of expressing the reaction:\n",
    "\n",
    "$$  \\frac{-r_B}{-r_A}=2  \\;\\; \\frac{r_C}{-r_A}=4 \\;\\; \\frac{r_D}{-r_A}=3  $$\n",
    "\n",
    "It is preferable to put minus sings in front of reagent reaction rates in order to work with positive quatities. The relationships above show that stoichiometry is merely the ratio of rates. We can write out the reaction like this:\n",
    "\n",
    "$$ A+\\left(\\frac{-r_B}{-r_A}\\right)B \\to \\left(\\frac{r_C}{-r_A}\\right)C+\\left(\\frac{r_D}{-r_A}\\right)D$$\n",
    "\n",
    "In the above expression component A was chosen as the basis (by assigning a coeffisient of 1). We can for example opt to have component C as the basis:\n",
    "\n",
    "$$ \\left(\\frac{-r_A}{r_C}\\right)A+\\left(\\frac{-r_B}{r_C}\\right)B \\to C+\\left(\\frac{r_D}{r_C}\\right)D$$\n",
    "\n",
    "The values of the stoichiometric coeffisients might change, but the ratio between the coeffisients don't. To simplify all the ratios we can merely write:\n",
    "\n",
    "$$ (-r_A) A+(-r_B) B \\to (r_C) C+(r_D)D$$\n",
    "\n",
    "It might appear that we now need 4 stoichiometric coeffisients to define the reaction. We only need 3 since stoichiometry only defines the ratios in which the components react. For 4 components there is just 3 independant ratios. If the absolute value of one reaction rate is known, the 3 independant stoichiometric coeffisients will allow the calculation of all the rate values.\n",
    "\n",
    "In bioprocess nomenclature, stoichiometric coeffisients are referred to as **yield coeffisients ($Y$)**. If component A is chosen as the basis, the above reaction will be represented as:\n",
    "\n",
    "$$  A+Y_{AB} B \\to Y_{AC} C+Y_{AD}D$$\n",
    "\n",
    "We can also for example use C as the basis:\n",
    "\n",
    "$$  Y_{CA}A+Y_{CB} B \\to  C+Y_{CD}D$$\n",
    "\n",
    "Note the simple relatioship:\n",
    "\n",
    "$$Y_{AC}=\\frac{r_C}{-r_A}$$\n",
    "\n",
    "The convention explained above exclusively works with **positive values of rates and yields**. The underlying assumption is that it is known whether a component is a reagent or a product. Negative yield or rate values will imply that a component was incorrectly identified as reagent/product. "
   ]
  },
  {
   "cell_type": "markdown",
   "metadata": {},
   "source": [
    "##  Balancing equations\n",
    "\n",
    "Take the carbon based(cmol) reaction where food ($C H_{1.875}O_{523}N_{0.081}$)  is converted to urea ($C H_{4}O_1N_2$) and humanure ($CH_{1.75}O_{0.59}N_{0.125}$). The overall chemical reaction will entail the consumption of oxygen and the production of carbon dioxide and  water. The chemical reaction is given by the following:\n",
    "\n",
    "$$C H_{1.875}O_{0.523}N_{0.081}+Y_{SO}O_2→Y_{SC}CO_2+Y_{SU}C H_{4}O_1N_2+Y_{SM}CH_{1.75}O_{0.59}N_{0.125}+ Y_{SW}H_2 O$$\n",
    "\n",
    "\n",
    "Note the subscripts **S,C,U,M,W,O** for substrate(food), $CO_2$, urea, humanure, water and oxygen.\n",
    "\n",
    "In CBI310 the determination of rates will be more important than the determination of yields. We are thus going to represent the reaction as follows:\n",
    "\n",
    "$$C H_{1.875}O_{0.523}N_{0.081}+\\left( \\frac{-r_O}{-r_S} \\right)O_2→\\left( \\frac{r_C}{-r_S} \\right)CO_2+\\left( \\frac{r_U}{-r_S} \\right)C H_{4}ON_2+\\left( \\frac{r_M}{-r_S} \\right)CH_{1.75}O_{0.59}N_{0.125}+ \\left( \\frac{r_W}{-r_S} \\right)H_2 O$$\n",
    "\n",
    "\n",
    "\n",
    "$$(-r_S)C H_{1.875}O_{0.523}N_{0.081}+(-r_O)O_2→(r_C)CO_2+(r_U)C H_{4}ON_2+(r_M)CH_{1.75}O_{0.59}N_{0.125}+ (r_W)H_2 O$$\n",
    "\n",
    "Let us do the hydrogen balance:\n",
    "\n",
    "$$ 1.875(-r_S)=4(r_U)+1.75(r_M)+2(r_W)$$\n",
    "\n",
    "Make sure you understand the balance. \n",
    "\n",
    "Rewrite the balance so that we have an expression set equal to zero:\n",
    "\n",
    "$$ 1.875(-r_S)-4(r_U)-1.75(r_M)-2(r_W)=0 \\qquad [A]$$\n",
    "    \n",
    "\n",
    "Similar the carbon, oxygen and nitrogen balances can be given as:\n",
    "\n",
    "$$(-r_S)-(r_{C})-(r_U)-(r_M)=0 \\qquad [B]$$ \n",
    "\n",
    "$$0.523(-r_S)+2(-r_O)-2(r_C)-(r_{U})-0.59(r_M)-(r_W)=0 \\qquad [C]$$\n",
    "\n",
    "$$0.081(-r_S)-2(r_U)-0.125(r_{M})=0 \\qquad [D]$$\n",
    "\n",
    "\n",
    "\n",
    "For now we will **define the substrate (food) consumption rate ($-r_S$) as F and urine production rate($r_U$) as U** , both are known and positive values:\n",
    "\n",
    "$$(-r_S)=F\\qquad [E]$$\n",
    "\n",
    "$$(r_U)=U\\qquad [F]$$\n",
    "\n",
    "Equations A-F above can be written in matrix format:\n",
    "\n",
    "$$\\begin{bmatrix}\n",
    " &Food&O_2&CO_2&U&M&H_2O\\\\\n",
    "C& -1& 0& 1& 1& 1& 0\\\\\n",
    "H& -1.875& 0& 0& 4&\t1.75& 2\\\\\n",
    "O& -0.523& -2& 2& 1&\t0.59& 1\\\\\n",
    "N& -0.081& 0& 0& 2&\t0.125& 0\\\\\n",
    "S_1& 1& 0& 0& 0& 0&0\\\\\n",
    "S_2& 0& 0& 0& 1& 0& 0\\end{bmatrix}\n",
    "\\times\\begin{bmatrix}\n",
    "-r_{S}\\\\-r_{O}\\\\r_{C}\\\\r_{U}\\\\r_{M}\\\\r_{W}\\end{bmatrix}\n",
    "=\\begin{bmatrix}0\\\\0\\\\0\\\\0\\\\F\\\\U\\end{bmatrix}$$\n",
    "\n",
    "For simplicity the matrix can also be written as:\n",
    "\n",
    "$$\\begin{bmatrix}\n",
    " &Food&O_2&CO_2&U&M&H_2O\\\\\n",
    "C& 1& 0& 1& 1& 1& 0\\\\\n",
    "H& 1.875& 0& 0& 4&\t1.75& 2\\\\\n",
    "O& 0.523& -2& 2& 1&\t0.59& 1\\\\\n",
    "N& 0.081& 0& 0& 2&\t0.125& 0\\\\\n",
    "S_1& 1& 0& 0& 0& 0&0\\\\\n",
    "S_2& 0& 0& 0& 1& 0& 0\\end{bmatrix}\n",
    "\\times\\begin{bmatrix}\n",
    "-r_{S}\\\\-r_{O}\\\\r_{C}\\\\r_{U}\\\\r_{M}\\\\r_{W}\\end{bmatrix}\n",
    "=\\begin{bmatrix}0\\\\0\\\\0\\\\0\\\\-F\\\\U\\end{bmatrix}$$\n",
    "\n",
    "\n"
   ]
  },
  {
   "cell_type": "markdown",
   "metadata": {},
   "source": [
    "The generic notation used for the formulation above is as follow:\n",
    "\n",
    "$$\\mathbf{S\\times r=C}$$\n",
    "\n",
    "The solution of $r$ can be obtained by the following:\n",
    "\n",
    "$$\\mathbf{r=S^{-1} \\times C}$$"
   ]
  },
  {
   "cell_type": "markdown",
   "metadata": {},
   "source": [
    "The matrix formulation above can easily be solved in Python Notebooks. We only require values for F and U. Note that these values must be in $\\frac{cmol}{human\\, \\cdot day}$. We have the mass flowrates of both F and U and we can merely convert by deviding with the cmol molar mass. See if you can follow the code below: "
   ]
  },
  {
   "cell_type": "code",
   "execution_count": 1,
   "metadata": {},
   "outputs": [
    {
     "data": {
      "text/plain": [
       "matrix([[1.   , 0.   , 1.   , 1.   , 1.   , 0.   ],\n",
       "        [1.875, 0.   , 0.   , 4.   , 1.75 , 2.   ],\n",
       "        [0.523, 2.   , 2.   , 1.   , 0.59 , 1.   ],\n",
       "        [0.081, 0.   , 0.   , 2.   , 0.125, 0.   ],\n",
       "        [1.   , 0.   , 0.   , 0.   , 0.   , 0.   ],\n",
       "        [0.   , 0.   , 0.   , 1.   , 0.   , 0.   ]])"
      ]
     },
     "execution_count": 1,
     "metadata": {},
     "output_type": "execute_result"
    }
   ],
   "source": [
    "import numpy\n",
    "\n",
    "#                  F     O2   CO2   U   M     H2O\n",
    "S = numpy.matrix([[1    ,0   ,1   ,1   ,1    ,0],  #C\n",
    "                  [1.875,0   ,0   ,4   ,1.75 ,2],  #H\n",
    "                  [0.523,2   ,2   ,1   ,0.59 ,1],  #O\n",
    "                  [0.081,0   ,0   ,2   ,0.125,0],  #N\n",
    "                  [1    ,0   ,0   ,0   ,0    ,0],  #S1\n",
    "                  [0    ,0   ,0   ,1   ,0    ,0]]) #S2\n",
    "\n",
    "#here we created the matrix using numpy, note each row is an array and these are seperated by a ','\n",
    "#tip: even spacing as above can help you keep track of your columns\n",
    "\n",
    "S"
   ]
  },
  {
   "cell_type": "code",
   "execution_count": 2,
   "metadata": {},
   "outputs": [
    {
     "data": {
      "text/plain": [
       "matrix([[-18.15887411],\n",
       "        [-18.26689324],\n",
       "        [ 15.14192369],\n",
       "        [  0.58333333],\n",
       "        [  2.43361709],\n",
       "        [ 13.72786286]])"
      ]
     },
     "execution_count": 2,
     "metadata": {},
     "output_type": "execute_result"
    }
   ],
   "source": [
    "C = numpy.matrix([[0,0,0,0,-424.5/23.377,35/60]]).T\n",
    "# here we created our matrix for C, note all mass balance = 0, so only the specifications will have values\n",
    "# what is the '.T' ? T = transpose, it is easier to type the matrix as 1 row but it should actually be 1 column, \n",
    "# thus we transpose it\n",
    "\n",
    "\n",
    "r = numpy.linalg.solve(S,C)\n",
    "#this function executes the equation shown above by converting S to S^{-1} and multiplying the matrices\n",
    "\n",
    "r"
   ]
  },
  {
   "cell_type": "markdown",
   "metadata": {},
   "source": [
    "Lots of information in the answer above. I want you to scrutinize the dry mass flows of $CO_2$ and humanure. Use Google to check if these amounts are realistic when considering heuristic figures from the internet. Ensure that you can do the calculations."
   ]
  },
  {
   "cell_type": "markdown",
   "metadata": {},
   "source": [
    "## Now try it yourself\n",
    "\n",
    "Let's see what happens if we do a banting diet of 20% carbs, 40% protein and 40% fat. Let's also include 1 g uric acid in the urine excreted and 900 mg of phosphorous in the incoming food. You can still assume that 35 g of urea is excreted daily.\n",
    "\n",
    "354.3 $\\frac{g}{Ben\\, \\cdot day}$ and $CH_{1.857}O_{0.304}N_{0.093}$\n",
    "\n",
    "Why is the dry mass intake less? Why is the oxygen intake less and the nitrogen intake more?\n",
    "\n",
    "Determine the $CO_2$ production and $O_2$ consumption and compare to the previous example. In this example 591.4 grams of $CO_2$ was produced, this is only 89% of the previous example. Also the oxygen consumtion of 581 grams is very similar to before. How do you explain this?\n",
    "\n",
    "What fraction of nitrogen digested by Ben ended up in humanure?\n",
    "\n",
    "Let's look a little at the phosphorous entering Ben. Will some of it accumulate in Ben's body. How will the phosphorous exit Ben's system? Will the Phosphorous distribution between the urine and humanure be the same. Use Google/ChatGPT to adress this question.\n",
    "\n",
    "What is the fate of nitrogen from human excretions? Where does most of it end up?\n",
    "\n",
    "What is the fate of phosphorous excretions from humans. Where does most of it end up?\n",
    "\n",
    "You will note from the balances that water (reaction water) is produced by Ben. How does this amount compare to the daily required intake of water for Ben. Give numbers.\n",
    "\n",
    "How much Phosphorous does Ben require per day? What food and specifically plantfood sources are high in Phosphorous? What is Phosphorous required for in the human body?\n",
    "\n",
    "Why can't humanure and urine just be dumped into a river?\n",
    "\n",
    "\n",
    "\n",
    "\n",
    "\n",
    "\n",
    "\n",
    "\n",
    "\n",
    "\n"
   ]
  },
  {
   "cell_type": "markdown",
   "metadata": {},
   "source": []
  }
 ],
 "metadata": {
  "kernelspec": {
   "display_name": "Python 3",
   "language": "python",
   "name": "python3"
  },
  "language_info": {
   "codemirror_mode": {
    "name": "ipython",
    "version": 3
   },
   "file_extension": ".py",
   "mimetype": "text/x-python",
   "name": "python",
   "nbconvert_exporter": "python",
   "pygments_lexer": "ipython3",
   "version": "3.8.3"
  }
 },
 "nbformat": 4,
 "nbformat_minor": 4
}
