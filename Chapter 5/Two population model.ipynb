{
 "cells": [
  {
   "cell_type": "markdown",
   "id": "5ecf1393",
   "metadata": {},
   "source": [
    "## Two population AD model\n",
    "\n",
    "In this model we will consider two steps to model the AD process. The first step involves the breakdown of biomass substrate to the intermediate acetic acid (representing short chain fatty acids). The second step involves the conversion of acetate to methane and $CO_2$. Acetic acid ($C_2H_4O_2$) will be modelled on a cmol basis as $CH_2O$. The overall reaction of the first step can be given by:\n",
    "\n",
    "$$S→X_A+CH_2O +NH_3+H_2O+R$$\n",
    "\n",
    "The biomass formed in this reaction ($X_A$) can decompose in the following reaction:\n",
    "\n",
    "$$X_A→CH_4+CO_2+NH3+H_2O$$\n",
    "\n",
    "The second reaction presents the conversion of acetic acid:\n",
    "\n",
    "$$CH_2O→X_M+NH_3+CO_2+CH_4+H_2O$$\n",
    "\n",
    "In a similar fashion the methanogenic biomass ($X_M$) also decomposes:\n",
    "\n",
    "$$X_A→CH_4+CO_2+NH3+H_2O$$\n",
    "\n",
    "$X_A$ is given by:\n",
    "$$CH_{1.72}O_{0.51}N_{0.16}$$\n",
    "\n",
    "and $X_M$ is given by:\n",
    "$$CH_{1.63}O_{0.48}N_{0.18}$$\n",
    "\n",
    "The substate ($S$) for this example is given by:\n",
    "\n",
    "$$CH_{1.7}O_{0.55}N_{0.06}$$\n"
   ]
  },
  {
   "cell_type": "code",
   "execution_count": null,
   "id": "6b38c271",
   "metadata": {},
   "outputs": [],
   "source": [
    "### Stoicheometry\n",
    "\n"
   ]
  }
 ],
 "metadata": {
  "kernelspec": {
   "display_name": "Python 3 (ipykernel)",
   "language": "python",
   "name": "python3"
  },
  "language_info": {
   "codemirror_mode": {
    "name": "ipython",
    "version": 3
   },
   "file_extension": ".py",
   "mimetype": "text/x-python",
   "name": "python",
   "nbconvert_exporter": "python",
   "pygments_lexer": "ipython3",
   "version": "3.9.13"
  }
 },
 "nbformat": 4,
 "nbformat_minor": 5
}
